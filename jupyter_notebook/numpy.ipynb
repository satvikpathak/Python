{
 "cells": [
  {
   "cell_type": "markdown",
   "id": "a4dbccb6",
   "metadata": {},
   "source": [
    "### Create\n",
    "### Read\n",
    "### Update\n",
    "### Delete"
   ]
  },
  {
   "cell_type": "code",
   "execution_count": 1,
   "id": "73cb02f6",
   "metadata": {},
   "outputs": [
    {
     "name": "stdout",
     "output_type": "stream",
     "text": [
      "Requirement already satisfied: numpy in c:\\users\\satvi\\onedrive\\desktop\\codes\\p\\.venv\\lib\\site-packages (2.2.6)\n",
      "Note: you may need to restart the kernel to use updated packages.\n"
     ]
    },
    {
     "name": "stderr",
     "output_type": "stream",
     "text": [
      "\n",
      "[notice] A new release of pip is available: 24.3.1 -> 25.1.1\n",
      "[notice] To update, run: python.exe -m pip install --upgrade pip\n"
     ]
    }
   ],
   "source": [
    "%pip install numpy"
   ]
  },
  {
   "cell_type": "markdown",
   "id": "7ae69eab",
   "metadata": {},
   "source": [
    "numpy is used to create arrays n dimensional and provides multiple operations for tensorflow and machine learning"
   ]
  },
  {
   "cell_type": "code",
   "execution_count": 2,
   "id": "56acba45",
   "metadata": {},
   "outputs": [],
   "source": [
    "import numpy as np"
   ]
  },
  {
   "cell_type": "markdown",
   "id": "72001fd6",
   "metadata": {},
   "source": [
    "1. Create"
   ]
  },
  {
   "cell_type": "code",
   "execution_count": 3,
   "id": "3d16e886",
   "metadata": {},
   "outputs": [],
   "source": [
    "data = np.random.rand(2,3,4)\n",
    "zeroes = np.zeros((2,2,2))\n",
    "full = np.full((2,2,2), 7)\n",
    "ones = np.ones((2,2,2))"
   ]
  },
  {
   "cell_type": "code",
   "execution_count": 4,
   "id": "60c6cb82",
   "metadata": {},
   "outputs": [
    {
     "data": {
      "text/plain": [
       "array([[[0.90624105, 0.47351183, 0.31032366, 0.98039289],\n",
       "        [0.4580188 , 0.16372524, 0.522577  , 0.70518642],\n",
       "        [0.32754024, 0.67916447, 0.07233747, 0.22291496]],\n",
       "\n",
       "       [[0.39631903, 0.0172772 , 0.19376366, 0.28830007],\n",
       "        [0.07450625, 0.4269751 , 0.39298475, 0.89628301],\n",
       "        [0.37070787, 0.54500261, 0.57255832, 0.03774601]]])"
      ]
     },
     "execution_count": 4,
     "metadata": {},
     "output_type": "execute_result"
    }
   ],
   "source": [
    "data"
   ]
  },
  {
   "cell_type": "code",
   "execution_count": 5,
   "id": "a3a779c5",
   "metadata": {},
   "outputs": [
    {
     "data": {
      "text/plain": [
       "array([[[0., 0.],\n",
       "        [0., 0.]],\n",
       "\n",
       "       [[0., 0.],\n",
       "        [0., 0.]]])"
      ]
     },
     "execution_count": 5,
     "metadata": {},
     "output_type": "execute_result"
    }
   ],
   "source": [
    "zeroes "
   ]
  },
  {
   "cell_type": "code",
   "execution_count": 6,
   "id": "56f039f3",
   "metadata": {},
   "outputs": [
    {
     "data": {
      "text/plain": [
       "array([[[7, 7],\n",
       "        [7, 7]],\n",
       "\n",
       "       [[7, 7],\n",
       "        [7, 7]]])"
      ]
     },
     "execution_count": 6,
     "metadata": {},
     "output_type": "execute_result"
    }
   ],
   "source": [
    "full "
   ]
  },
  {
   "cell_type": "code",
   "execution_count": 7,
   "id": "929abd44",
   "metadata": {},
   "outputs": [
    {
     "data": {
      "text/plain": [
       "array([[[1., 1.],\n",
       "        [1., 1.]],\n",
       "\n",
       "       [[1., 1.],\n",
       "        [1., 1.]]])"
      ]
     },
     "execution_count": 7,
     "metadata": {},
     "output_type": "execute_result"
    }
   ],
   "source": [
    "ones "
   ]
  },
  {
   "cell_type": "code",
   "execution_count": 8,
   "id": "31981fc6",
   "metadata": {},
   "outputs": [],
   "source": [
    "arr = np.array([[1,2,3,4,5], [6,7,8,9,10]])"
   ]
  },
  {
   "cell_type": "code",
   "execution_count": 9,
   "id": "a0cd5161",
   "metadata": {},
   "outputs": [
    {
     "data": {
      "text/plain": [
       "array([[ 1,  2,  3,  4,  5],\n",
       "       [ 6,  7,  8,  9, 10]])"
      ]
     },
     "execution_count": 9,
     "metadata": {},
     "output_type": "execute_result"
    }
   ],
   "source": [
    "arr"
   ]
  },
  {
   "cell_type": "code",
   "execution_count": 10,
   "id": "72611475",
   "metadata": {},
   "outputs": [
    {
     "data": {
      "text/plain": [
       "numpy.ndarray"
      ]
     },
     "execution_count": 10,
     "metadata": {},
     "output_type": "execute_result"
    }
   ],
   "source": [
    "type(arr)"
   ]
  },
  {
   "cell_type": "markdown",
   "id": "e2ba7452",
   "metadata": {},
   "source": [
    "2. Read"
   ]
  },
  {
   "cell_type": "code",
   "execution_count": 11,
   "id": "b2efba87",
   "metadata": {},
   "outputs": [],
   "source": [
    "# attributes\n",
    "shape = data.shape\n",
    "size = data.size\n",
    "types = data.dtype"
   ]
  },
  {
   "cell_type": "code",
   "execution_count": 12,
   "id": "ffee2c81",
   "metadata": {},
   "outputs": [
    {
     "data": {
      "text/plain": [
       "(2, 3, 4)"
      ]
     },
     "execution_count": 12,
     "metadata": {},
     "output_type": "execute_result"
    }
   ],
   "source": [
    "shape"
   ]
  },
  {
   "cell_type": "code",
   "execution_count": 13,
   "id": "7a9b80c8",
   "metadata": {},
   "outputs": [
    {
     "data": {
      "text/plain": [
       "24"
      ]
     },
     "execution_count": 13,
     "metadata": {},
     "output_type": "execute_result"
    }
   ],
   "source": [
    "size"
   ]
  },
  {
   "cell_type": "code",
   "execution_count": 14,
   "id": "178424a3",
   "metadata": {},
   "outputs": [
    {
     "data": {
      "text/plain": [
       "dtype('float64')"
      ]
     },
     "execution_count": 14,
     "metadata": {},
     "output_type": "execute_result"
    }
   ],
   "source": [
    "types"
   ]
  },
  {
   "cell_type": "code",
   "execution_count": 17,
   "id": "f2ba45b0",
   "metadata": {},
   "outputs": [],
   "source": [
    "# slicing\n",
    "slicer = data[0:2]"
   ]
  },
  {
   "cell_type": "code",
   "execution_count": 16,
   "id": "7d4191d0",
   "metadata": {},
   "outputs": [
    {
     "data": {
      "text/plain": [
       "array([[[0.90624105, 0.47351183, 0.31032366, 0.98039289],\n",
       "        [0.4580188 , 0.16372524, 0.522577  , 0.70518642],\n",
       "        [0.32754024, 0.67916447, 0.07233747, 0.22291496]],\n",
       "\n",
       "       [[0.39631903, 0.0172772 , 0.19376366, 0.28830007],\n",
       "        [0.07450625, 0.4269751 , 0.39298475, 0.89628301],\n",
       "        [0.37070787, 0.54500261, 0.57255832, 0.03774601]]])"
      ]
     },
     "execution_count": 16,
     "metadata": {},
     "output_type": "execute_result"
    }
   ],
   "source": [
    "arr"
   ]
  },
  {
   "cell_type": "code",
   "execution_count": 18,
   "id": "486c96dc",
   "metadata": {},
   "outputs": [
    {
     "data": {
      "text/plain": [
       "array([[[0.90624105, 0.47351183, 0.31032366, 0.98039289],\n",
       "        [0.4580188 , 0.16372524, 0.522577  , 0.70518642],\n",
       "        [0.32754024, 0.67916447, 0.07233747, 0.22291496]],\n",
       "\n",
       "       [[0.39631903, 0.0172772 , 0.19376366, 0.28830007],\n",
       "        [0.07450625, 0.4269751 , 0.39298475, 0.89628301],\n",
       "        [0.37070787, 0.54500261, 0.57255832, 0.03774601]]])"
      ]
     },
     "execution_count": 18,
     "metadata": {},
     "output_type": "execute_result"
    }
   ],
   "source": [
    "slicer"
   ]
  }
 ],
 "metadata": {
  "kernelspec": {
   "display_name": ".venv",
   "language": "python",
   "name": "python3"
  },
  "language_info": {
   "codemirror_mode": {
    "name": "ipython",
    "version": 3
   },
   "file_extension": ".py",
   "mimetype": "text/x-python",
   "name": "python",
   "nbconvert_exporter": "python",
   "pygments_lexer": "ipython3",
   "version": "3.13.0"
  }
 },
 "nbformat": 4,
 "nbformat_minor": 5
}
